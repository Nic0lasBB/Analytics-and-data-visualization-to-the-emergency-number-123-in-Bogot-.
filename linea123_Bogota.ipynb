{
 "cells": [
  {
   "cell_type": "markdown",
   "metadata": {},
   "source": [
    "librerias"
   ]
  },
  {
   "cell_type": "code",
   "execution_count": 1,
   "metadata": {},
   "outputs": [],
   "source": [
    "import numpy as np\n",
    "import pandas as pd\n",
    "import matplotlib.pyplot as plt\n",
    "from matplotlib import rc\n",
    "\n",
    "import requests\n",
    "import unidecode\n",
    "import datetime\n",
    "import dateutil\n",
    "import subprocess\n",
    "import sys\n",
    "import json\n",
    "import tempfile\n",
    "import os"
   ]
  },
  {
   "cell_type": "markdown",
   "metadata": {},
   "source": [
    "# Importacion y limpieza de los datos linea 123 Bogotá D.C."
   ]
  },
  {
   "cell_type": "code",
   "execution_count": 2,
   "metadata": {},
   "outputs": [],
   "source": [
    "# Input data files are available in the \"../input/\" directory.\n",
    "INPUT_DIR = './'\n",
    "if os.path.split(os.path.abspath('.'))[-1] == 'src':\n",
    "    INPUT_DIR = '../input'\n",
    "# Any results you write to the current directory are saved as output.\n",
    "OUTPUT_DIR = './'\n",
    "if os.path.split(os.path.abspath('.'))[-1] == 'src':\n",
    "    OUTPUT_DIR = '../output'"
   ]
  },
  {
   "cell_type": "markdown",
   "metadata": {},
   "source": [
    "Url tomadas del portal datos abiertos Bogotá, Llamadas de Urgencias y Emergencias que ingresan a través de la línea 123\n",
    "\n",
    "https://datosabiertos.bogota.gov.co/dataset/llamadas-de-urgencias-y-emergencias-que-ingresan-a-traves-de-la-linea-123#"
   ]
  },
  {
   "cell_type": "code",
   "execution_count": 3,
   "metadata": {},
   "outputs": [],
   "source": [
    "#url to different data line 123\n",
    "\n",
    "enero_junio='https://datosabiertos.bogota.gov.co/dataset/b99881e0-8750-4fa8-af6c-3f30c9e38708/resource/b7c67c90-922b-4bd7-a129-f3fb524f0e6a/download/llamadas-de-urgencias-y-emergencias.csv'\n",
    "julio='https://datosabiertos.bogota.gov.co/dataset/b99881e0-8750-4fa8-af6c-3f30c9e38708/resource/1ae68c0b-4ab7-44fa-8344-55fa48ea7807/download/datos-abiertos-julio-2019.csv'\n",
    "agosto='https://datosabiertos.bogota.gov.co/dataset/b99881e0-8750-4fa8-af6c-3f30c9e38708/resource/d65b0617-26eb-4266-96a0-226a0e3a2bc2/download/datos-abiertos-agosto-2019.csv'\n",
    "septiembre='https://datosabiertos.bogota.gov.co/dataset/b99881e0-8750-4fa8-af6c-3f30c9e38708/resource/1d1651e9-2658-4e06-a51b-12c8b8ff4e26/download/datos-abiertos-septiembre-2019.csv'\n",
    "octubre='https://datosabiertos.bogota.gov.co/dataset/b99881e0-8750-4fa8-af6c-3f30c9e38708/resource/b0297493-1972-46d8-a9ea-114f82618b09/download/datos-abiertos-octubre-2019.csv'\n",
    "noviembre='https://datosabiertos.bogota.gov.co/dataset/b99881e0-8750-4fa8-af6c-3f30c9e38708/resource/55d68726-b359-4609-8e72-4f33e8c84b5d/download/datos-abiertos-noviembre_2019.csv'\n",
    "diciembre='https://datosabiertos.bogota.gov.co/dataset/b99881e0-8750-4fa8-af6c-3f30c9e38708/resource/e0e40bb8-023a-43c1-bf82-8bb8ed778632/download/datos_abiertos_cons_diciembre_2019.csv'"
   ]
  },
  {
   "cell_type": "code",
   "execution_count": 4,
   "metadata": {},
   "outputs": [],
   "source": [
    "# colect data in DF format from url\n",
    "def url_to_df(month):\n",
    "    return pd.read_csv(month, encoding='Latin-1', sep=';')"
   ]
  },
  {
   "cell_type": "markdown",
   "metadata": {},
   "source": [
    "Debido a que solo los meses de enero a agosto tienen la columna de clasificacion usaremos estos para el EDA"
   ]
  },
  {
   "cell_type": "code",
   "execution_count": 5,
   "metadata": {},
   "outputs": [],
   "source": [
    "dfene_jun= url_to_df(enero_junio)\n",
    "dfjul= url_to_df(julio)\n",
    "dfag= url_to_df(agosto)"
   ]
  },
  {
   "cell_type": "code",
   "execution_count": 6,
   "metadata": {},
   "outputs": [],
   "source": [
    "#unificate columns names\n",
    "dfjul.columns=dfag.columns=dfene_jun.columns"
   ]
  },
  {
   "cell_type": "markdown",
   "metadata": {},
   "source": [
    "debido a que el df de agosto no contiene la columna fecha de incidente se eliminara"
   ]
  },
  {
   "cell_type": "code",
   "execution_count": 7,
   "metadata": {},
   "outputs": [],
   "source": [
    "dfag = dfag.drop(['FECHA_INCIDENTE'], axis=1)"
   ]
  },
  {
   "cell_type": "code",
   "execution_count": 8,
   "metadata": {},
   "outputs": [],
   "source": [
    "#concatenate different DF\n",
    "df = pd.concat([dfene_jun, dfjul, dfag], ignore_index=True)"
   ]
  },
  {
   "cell_type": "code",
   "execution_count": 9,
   "metadata": {},
   "outputs": [],
   "source": [
    "# Fill NaN Values\n",
    "if df.isna().sum().sum() > 0:\n",
    "    df.fillna(value='-', inplace=True)"
   ]
  },
  {
   "cell_type": "code",
   "execution_count": 10,
   "metadata": {},
   "outputs": [],
   "source": [
    "# Setup Date Format\n",
    "date_columns = list(filter(lambda value: value.find('FECHA') != -1 , df.columns))\n",
    "\n",
    "def setup_date(value):\n",
    "    try:\n",
    "        value = value.split(' ')\n",
    "        if len(value) == 3:\n",
    "            valuey=value[0].split('-')\n",
    "            valueh=value[2].split(':')\n",
    "            value = value[1] + '/' + valuey[1] + '/' + valuey[0] + ' ' + valueh[0] + ':' + valueh[1]\n",
    "        elif len(value) == 2 and value[0].find('/')!=-1:\n",
    "            if len(value[0]) ==9:\n",
    "                valuey='0'+value[0]\n",
    "            else:\n",
    "                valuey=value[0]\n",
    "            if len(value[1])==4:\n",
    "                valueh='0'+value[1]\n",
    "            else:\n",
    "                valueh=value[1]\n",
    "            value=valuey + ' ' + valueh     \n",
    "        elif len(value) == 2 and value[0].find('-')!=-1:\n",
    "            valuey=value[0].split('-')\n",
    "            valueh=value[1].split(':')\n",
    "            value= valuey[2] + '/' + valuey[1] + '/' + valuey[0] + ' ' + valueh[0] + ':' + valueh[1]\n",
    "        else:\n",
    "            value = '-'\n",
    "    except IndexError:\n",
    "        value = '-'\n",
    "    if len(value) != 19 and len(value) != 14 and len(value) != 15 and len(value) != 16:\n",
    "        value = '-'\n",
    "    return value\n",
    "\n",
    "# For each date column\n",
    "for date_column in date_columns:\n",
    "    df[date_column] = df[date_column].transform(lambda value: setup_date(value))"
   ]
  },
  {
   "cell_type": "code",
   "execution_count": 11,
   "metadata": {},
   "outputs": [],
   "source": [
    "import re\n",
    "import unidecode\n",
    "\n",
    "def preprocessing(doc):\n",
    "    rem_acent=unidecode.unidecode(doc)\n",
    "    letters_only = re.sub(\"[^a-zA-Z0-9-/ñÑ]\", \" \",rem_acent) \n",
    "    words = letters_only.lower().split()                             \n",
    "    return( \" \".join(words))\n",
    "\n",
    "# For each string column\n",
    "string_columns= [df.columns[i] for i in range (len(df.columns)) if i not in {0, 1, 2, 4}]\n",
    "for string_column in string_columns:\n",
    "    df[string_column] = df[string_column].transform(lambda value: preprocessing(value))"
   ]
  },
  {
   "cell_type": "code",
   "execution_count": 12,
   "metadata": {},
   "outputs": [],
   "source": [
    "# Fill NaN Values\n",
    "if df.isna().sum().sum() > 0:\n",
    "    df.fillna(value='-', inplace=True)"
   ]
  },
  {
   "cell_type": "code",
   "execution_count": 13,
   "metadata": {},
   "outputs": [],
   "source": [
    "def delta_time(f1,f2):\n",
    "    if f1 !='-' and f2 !='-':\n",
    "        try:\n",
    "            date1 = datetime.datetime.strptime(f1, '%d/%m/%Y %H:%M')\n",
    "            date2 = datetime.datetime.strptime(f2, '%d/%m/%Y %H:%M')\n",
    "            if date2 > date1:\n",
    "                value = (date2-date1).seconds/60\n",
    "            else:\n",
    "                value = None\n",
    "        except ValueError:\n",
    "            value = None\n",
    "    else:\n",
    "        value=None\n",
    "    return value\n",
    "\n",
    "#Add column representing the time diference\n",
    "df['DELTA_TIEMPO'] = df[['FECHA_INCIDENTE','FECHA_INICIO_DESPLAZAMIENTO_MOVIL']].apply(lambda x: delta_time(*x), axis=1)\n"
   ]
  },
  {
   "cell_type": "markdown",
   "metadata": {},
   "source": [
    "# Visualizacion de los datos"
   ]
  },
  {
   "cell_type": "markdown",
   "metadata": {},
   "source": [
    "Filtrando los datos como llamadas reales o de situacion unica segun el observatorio de salud de Bogota:"
   ]
  },
  {
   "cell_type": "code",
   "execution_count": 14,
   "metadata": {},
   "outputs": [
    {
     "data": {
      "text/plain": [
       "array(['cancelado', 'traslado', 'falsa alarma', 'desistimiento',\n",
       "       'trasladado por otro recurso', 'no ubica', 'fallecido',\n",
       "       'trasladado por otro', 'no amerita traslado', 'falsa al', '-'],\n",
       "      dtype=object)"
      ]
     },
     "execution_count": 14,
     "metadata": {},
     "output_type": "execute_result"
    }
   ],
   "source": [
    "df['CLASIFICACION FINAL'].unique()"
   ]
  },
  {
   "cell_type": "code",
   "execution_count": 15,
   "metadata": {},
   "outputs": [],
   "source": [
    "#Clasificacion Observatorio Salud llamadas No Reales\n",
    "obs=['cancelado', 'falsa alarma','desistimiento','falsa al', '-' ]\n",
    "#Clasificacion Propuesta llamadas No Reales\n",
    "pro=['falsa alarma','falsa al', '-' ]\n",
    "#data frame  real calls \n",
    "df_non_real=df[df['CLASIFICACION FINAL'].isin(pro)]\n",
    "#data frame non real calls\n",
    "df_real=df[~df['CLASIFICACION FINAL'].isin(pro)]"
   ]
  },
  {
   "cell_type": "code",
   "execution_count": 116,
   "metadata": {},
   "outputs": [],
   "source": [
    "def bars(DataF, column):\n",
    "    threshold = 0.02\n",
    "    prob=DataF[column].value_counts(normalize=True)\n",
    "    mask = prob > threshold\n",
    "    tail_prob = prob.loc[~mask].sum()\n",
    "    prob = prob.loc[mask]\n",
    "    if tail_prob > 0.0001:\n",
    "        prob['otros'] = tail_prob\n",
    "    return prob\n",
    "\n",
    "def plot_barh(DataF, name1, NDataF, name2, column):\n",
    "    bar_real=bars(DataF, column)\n",
    "    bar_noreal=bars(NDataF, column)\n",
    "    bar_noreal2={}\n",
    "    bar_real2={}    \n",
    "    if len(bar_real)>=len(bar_noreal):\n",
    "        for keys, values in bar_real.items():\n",
    "            if keys in bar_noreal.keys():\n",
    "                bar_noreal2.update({keys:bar_noreal[keys]})\n",
    "            else:\n",
    "                bar_noreal2.update({keys:0})\n",
    "            bar_real2.update({keys:values})      \n",
    "    else:\n",
    "        for keys, values in bar_noreal.items():\n",
    "            if keys in bar_real.keys():\n",
    "                bar_real2.update({keys:bar_real[keys]})\n",
    "            else:\n",
    "                bar_real2.update({keys:0})  \n",
    "            bar_noreal2.update({keys:values})\n",
    "    df = pd.DataFrame({name1: list(bar_real2.values()),\n",
    "                       name2: list(bar_noreal2.values())}, \n",
    "                      index=list(bar_real2.keys()))\n",
    "    ax = df.plot.barh(width = 0.7)\n",
    "    #return df\n"
   ]
  },
  {
   "cell_type": "code",
   "execution_count": 17,
   "metadata": {},
   "outputs": [
    {
     "data": {
      "text/plain": [
       "Index(['FECHA_INCIDENTE', 'FECHA_INICIO_DESPLAZAMIENTO_MOVIL',\n",
       "       'CODIGO LOCALIDAD', 'LOCALIDAD', 'EDAD', 'UNIDAD', 'GENERO', 'RED',\n",
       "       'TIPO_INCIDENTE', 'PRIORIDAD', 'MES', 'CLASIFICACION FINAL',\n",
       "       'DELTA_TIEMPO'],\n",
       "      dtype='object')"
      ]
     },
     "execution_count": 17,
     "metadata": {},
     "output_type": "execute_result"
    }
   ],
   "source": [
    "df.columns"
   ]
  },
  {
   "cell_type": "code",
   "execution_count": 108,
   "metadata": {
    "scrolled": true
   },
   "outputs": [
    {
     "data": {
      "image/png": "[encoded data removed]",
      "text/plain": [
       "<Figure size 432x288 with 1 Axes>"
      ]
     },
     "metadata": {
      "needs_background": "light"
     },
     "output_type": "display_data"
    }
   ],
   "source": [
    "plot_barh(df_real, 'Reales', df_non_real, 'No Reales', 'MES')"
   ]
  },
  {
   "cell_type": "code",
   "execution_count": 15,
   "metadata": {},
   "outputs": [],
   "source": [
    "def filter_month(month):\n",
    "    return df[df['MES']==month]    "
   ]
  },
  {
   "cell_type": "code",
   "execution_count": 115,
   "metadata": {},
   "outputs": [
    {
     "data": {
      "image/png": "[encoded data removed]",
      "text/plain": [
       "<Figure size 432x288 with 1 Axes>"
      ]
     },
     "metadata": {
      "needs_background": "light"
     },
     "output_type": "display_data"
    },
    {
     "data": {
      "image/png": "[encoded data removed]",
      "text/plain": [
       "<Figure size 432x288 with 1 Axes>"
      ]
     },
     "metadata": {
      "needs_background": "light"
     },
     "output_type": "display_data"
    }
   ],
   "source": [
    "#fig, (ax, ax2) = plt.subplots(ncols=2, sharey=True)\n",
    "\n",
    "#ax.invert_xaxis()\n",
    "#ax.yaxis.tick_right()\n",
    "\n",
    "df1=plot_barh(df_real.loc[df_real['DELTA_TIEMPO']>30.0], 'Mayor a 30 m', df_real.loc[df_real['DELTA_TIEMPO']<=30.0], 'Menor a 30 m','TIPO_INCIDENTE')\n",
    "df2=plot_barh(df_non_real.loc[df_non_real['DELTA_TIEMPO']>30.0], 'Mayor a 30 m', df_non_real.loc[df_non_real['DELTA_TIEMPO']<=30.0], 'Menor a 30 m','TIPO_INCIDENTE')\n",
    "\n",
    "df1.plot(kind='barh',title='Real')\n",
    "df2.plot(kind='barh', title='No Real')\n",
    "plt.show()"
   ]
  },
  {
   "cell_type": "code",
   "execution_count": 117,
   "metadata": {},
   "outputs": [
    {
     "data": {
      "image/png": "[encoded data removed]",
      "text/plain": [
       "<Figure size 432x288 with 1 Axes>"
      ]
     },
     "metadata": {
      "needs_background": "light"
     },
     "output_type": "display_data"
    }
   ],
   "source": [
    "plot_barh(df.loc[df['TIPO_INCIDENTE']=='accidente de transito con heridos/muertos'], 'Accidente de transito', df.loc[df['TIPO_INCIDENTE']=='inconsciente/paro cardiorrespiratorio'], 'In/paro card','CLASIFICACION FINAL')"
   ]
  },
  {
   "cell_type": "code",
   "execution_count": 86,
   "metadata": {},
   "outputs": [
    {
     "data": {
      "text/plain": [
       "797366.0"
      ]
     },
     "execution_count": 86,
     "metadata": {},
     "output_type": "execute_result"
    }
   ],
   "source": [
    "df.loc[(df['DELTA_TIEMPO']>30.0) & (df['DELTA_TIEMPO']<100.0)]['DELTA_TIEMPO'].sum()"
   ]
  },
  {
   "cell_type": "code",
   "execution_count": 84,
   "metadata": {},
   "outputs": [
    {
     "data": {
      "text/plain": [
       "861446.0"
      ]
     },
     "execution_count": 84,
     "metadata": {},
     "output_type": "execute_result"
    }
   ],
   "source": [
    "df.loc[df['DELTA_TIEMPO']<30.0]['DELTA_TIEMPO'].sum()"
   ]
  },
  {
   "cell_type": "code",
   "execution_count": 105,
   "metadata": {},
   "outputs": [
    {
     "data": {
      "text/plain": [
       "array([[<matplotlib.axes._subplots.AxesSubplot object at 0x7f85afd7f588>]],\n",
       "      dtype=object)"
      ]
     },
     "execution_count": 105,
     "metadata": {},
     "output_type": "execute_result"
    },
    {
     "data": {
      "image/png": "[encoded data removed]",
      "text/plain": [
       "<Figure size 432x288 with 1 Axes>"
      ]
     },
     "metadata": {
      "needs_background": "light"
     },
     "output_type": "display_data"
    }
   ],
   "source": [
    "df_transi=df.loc[df['TIPO_INCIDENTE']=='accidente de transito con heridos/muertos']\n",
    "df_transi.loc[df_transi['DELTA_TIEMPO']<100].hist('DELTA_TIEMPO', bins=25,density=True)"
   ]
  },
  {
   "cell_type": "code",
   "execution_count": 68,
   "metadata": {},
   "outputs": [],
   "source": [
    "#heatmap\n",
    "df_hm=df[~ (df['MES']=='agosto')]"
   ]
  },
  {
   "cell_type": "code",
   "execution_count": 69,
   "metadata": {},
   "outputs": [
    {
     "name": "stderr",
     "output_type": "stream",
     "text": [
      "/home/nicolasbb/anaconda3/lib/python3.7/site-packages/ipykernel_launcher.py:1: SettingWithCopyWarning: \n",
      "A value is trying to be set on a copy of a slice from a DataFrame.\n",
      "Try using .loc[row_indexer,col_indexer] = value instead\n",
      "\n",
      "See the caveats in the documentation: https://pandas.pydata.org/pandas-docs/stable/user_guide/indexing.html#returning-a-view-versus-a-copy\n",
      "  \"\"\"Entry point for launching an IPython kernel.\n"
     ]
    }
   ],
   "source": [
    "df_hm['timeStamp']=pd.to_datetime(df_hm['FECHA_INCIDENTE'].transform(lambda x: datetime.datetime.strptime(x, '%d/%m/%Y %H:%M') ))"
   ]
  },
  {
   "cell_type": "code",
   "execution_count": 70,
   "metadata": {},
   "outputs": [
    {
     "name": "stderr",
     "output_type": "stream",
     "text": [
      "/home/nicolasbb/anaconda3/lib/python3.7/site-packages/ipykernel_launcher.py:1: SettingWithCopyWarning: \n",
      "A value is trying to be set on a copy of a slice from a DataFrame.\n",
      "Try using .loc[row_indexer,col_indexer] = value instead\n",
      "\n",
      "See the caveats in the documentation: https://pandas.pydata.org/pandas-docs/stable/user_guide/indexing.html#returning-a-view-versus-a-copy\n",
      "  \"\"\"Entry point for launching an IPython kernel.\n",
      "/home/nicolasbb/anaconda3/lib/python3.7/site-packages/ipykernel_launcher.py:2: SettingWithCopyWarning: \n",
      "A value is trying to be set on a copy of a slice from a DataFrame.\n",
      "Try using .loc[row_indexer,col_indexer] = value instead\n",
      "\n",
      "See the caveats in the documentation: https://pandas.pydata.org/pandas-docs/stable/user_guide/indexing.html#returning-a-view-versus-a-copy\n",
      "  \n",
      "/home/nicolasbb/anaconda3/lib/python3.7/site-packages/ipykernel_launcher.py:3: SettingWithCopyWarning: \n",
      "A value is trying to be set on a copy of a slice from a DataFrame.\n",
      "Try using .loc[row_indexer,col_indexer] = value instead\n",
      "\n",
      "See the caveats in the documentation: https://pandas.pydata.org/pandas-docs/stable/user_guide/indexing.html#returning-a-view-versus-a-copy\n",
      "  This is separate from the ipykernel package so we can avoid doing imports until\n"
     ]
    }
   ],
   "source": [
    "df_hm['Hour']=df_hm['timeStamp'].apply(lambda x:x.hour)\n",
    "df_hm['Month']=df_hm['timeStamp'].apply(lambda x:x.month)\n",
    "df_hm['DayOfWeek']=df_hm['timeStamp'].apply(lambda x:x.dayofweek)"
   ]
  },
  {
   "cell_type": "code",
   "execution_count": 71,
   "metadata": {},
   "outputs": [],
   "source": [
    "dmap={0:'Mon',1:'Tue',2:'Wed',3:'Thu',4:'Fri',5:'Sat',6:'Sun'}"
   ]
  },
  {
   "cell_type": "code",
   "execution_count": 72,
   "metadata": {},
   "outputs": [],
   "source": [
    "mmap={1:'Jan',2:'Feb',3:'Mar',4:'Apr',5:'May',6:'Jun',7:'Jul',8:'Aug',9:'Sep',10:'Oct',11:'Nov',12:'Dec'}"
   ]
  },
  {
   "cell_type": "code",
   "execution_count": 73,
   "metadata": {},
   "outputs": [
    {
     "name": "stderr",
     "output_type": "stream",
     "text": [
      "/home/nicolasbb/anaconda3/lib/python3.7/site-packages/ipykernel_launcher.py:1: SettingWithCopyWarning: \n",
      "A value is trying to be set on a copy of a slice from a DataFrame.\n",
      "Try using .loc[row_indexer,col_indexer] = value instead\n",
      "\n",
      "See the caveats in the documentation: https://pandas.pydata.org/pandas-docs/stable/user_guide/indexing.html#returning-a-view-versus-a-copy\n",
      "  \"\"\"Entry point for launching an IPython kernel.\n",
      "/home/nicolasbb/anaconda3/lib/python3.7/site-packages/ipykernel_launcher.py:2: SettingWithCopyWarning: \n",
      "A value is trying to be set on a copy of a slice from a DataFrame.\n",
      "Try using .loc[row_indexer,col_indexer] = value instead\n",
      "\n",
      "See the caveats in the documentation: https://pandas.pydata.org/pandas-docs/stable/user_guide/indexing.html#returning-a-view-versus-a-copy\n",
      "  \n"
     ]
    }
   ],
   "source": [
    "df_hm['Month']=df_hm['Month'].map(mmap)\n",
    "df_hm['DayOfWeek']=df_hm['DayOfWeek'].map(dmap)"
   ]
  },
  {
   "cell_type": "code",
   "execution_count": 359,
   "metadata": {},
   "outputs": [],
   "source": [
    "dayHour=df_hm.loc[ df_hm['TIPO_INCIDENTE'].isin(['intento de suicidio'])].groupby(by=['DayOfWeek','Hour']).count()['MES'].unstack()"
   ]
  },
  {
   "cell_type": "code",
   "execution_count": 360,
   "metadata": {},
   "outputs": [
    {
     "data": {
      "text/plain": [
       "<matplotlib.axes._subplots.AxesSubplot at 0x7f9b4565b240>"
      ]
     },
     "execution_count": 360,
     "metadata": {},
     "output_type": "execute_result"
    },
    {
     "data": {
      "image/png": "[encoded data removed]",
      "text/plain": [
       "<Figure size 864x432 with 2 Axes>"
      ]
     },
     "metadata": {
      "needs_background": "light"
     },
     "output_type": "display_data"
    }
   ],
   "source": [
    "import seaborn as sns\n",
    "\n",
    "\n",
    "\n",
    "plt.figure(figsize=(12,6))\n",
    "sns.heatmap(dayHour)"
   ]
  },
  {
   "cell_type": "markdown",
   "metadata": {},
   "source": [
    "# Analitica de datos"
   ]
  },
  {
   "cell_type": "markdown",
   "metadata": {},
   "source": [
    "## Deteccion de outliers"
   ]
  },
  {
   "cell_type": "code",
   "execution_count": 118,
   "metadata": {},
   "outputs": [],
   "source": [
    "import scipy\n",
    "import scipy.stats as ss\n",
    "import numpy as np"
   ]
  },
  {
   "cell_type": "code",
   "execution_count": 229,
   "metadata": {},
   "outputs": [
    {
     "name": "stderr",
     "output_type": "stream",
     "text": [
      "/home/nicolasbb/anaconda3/lib/python3.7/site-packages/scipy/stats/_continuous_distns.py:2432: RuntimeWarning: divide by zero encountered in true_divide\n",
      "  val = val + cnk * (-1) ** ki / (1.0 - c * ki)\n",
      "/home/nicolasbb/anaconda3/lib/python3.7/site-packages/scipy/stats/_distn_infrastructure.py:1063: RuntimeWarning: invalid value encountered in subtract\n",
      "  mu2 = mu2p - mu * mu\n",
      "/home/nicolasbb/anaconda3/lib/python3.7/site-packages/scipy/stats/_distn_infrastructure.py:2407: RuntimeWarning: invalid value encountered in double_scalars\n",
      "  Lhat = muhat - Shat*mu\n"
     ]
    },
    {
     "name": "stdout",
     "output_type": "stream",
     "text": [
      "(0.21508982674203247, 0.9999996662771748, 66.50112690138593)\n"
     ]
    }
   ],
   "source": [
    "df_transi=df_hm.loc[df_hm['TIPO_INCIDENTE']=='trastorno mental']\n",
    "x=df_transi['DELTA_TIEMPO'].values\n",
    "y=np.isfinite(x)\n",
    "fit2 = ss.genpareto.fit(x[y])\n",
    "print(fit2)"
   ]
  },
  {
   "cell_type": "code",
   "execution_count": 215,
   "metadata": {},
   "outputs": [
    {
     "data": {
      "image/png": "[encoded data removed]",
      "text/plain": [
       "<Figure size 432x288 with 1 Axes>"
      ]
     },
     "metadata": {
      "needs_background": "light"
     },
     "output_type": "display_data"
    }
   ],
   "source": [
    "plt.hist(df_transi.loc[(df_transi['DELTA_TIEMPO']<200.0)]['DELTA_TIEMPO'], bins=18, density=True, alpha=0.7, label='Histogram')\n",
    "plt.plot(np.linspace(0, 200, 100),\n",
    "         ss.expon.pdf(np.linspace(1, 200, 100), fit2[0], fit2[1]), 'r--',\n",
    "         label='Exponential fit')\n",
    "plt.legend(loc='upper right')\n",
    "plt.show()"
   ]
  },
  {
   "cell_type": "code",
   "execution_count": 218,
   "metadata": {},
   "outputs": [
    {
     "name": "stdout",
     "output_type": "stream",
     "text": [
      "The one precent threshold for call duration 18.8859\n"
     ]
    }
   ],
   "source": [
    "boundary = ss.expon.ppf(0.85, fit2[0], fit2[1])\n",
    "print(f'The one precent threshold for call duration {boundary:6.4f}')"
   ]
  },
  {
   "cell_type": "code",
   "execution_count": 179,
   "metadata": {},
   "outputs": [
    {
     "name": "stdout",
     "output_type": "stream",
     "text": [
      "0.56\n"
     ]
    }
   ],
   "source": [
    "prob_over_60 = (ss.genpareto.cdf(60, fit2[0], fit2[1], fit2[2]))\n",
    "print('{:.2f}'.format(prob_over_60))"
   ]
  },
  {
   "cell_type": "markdown",
   "metadata": {},
   "source": [
    "## Comparacion de outliers"
   ]
  },
  {
   "cell_type": "code",
   "execution_count": 232,
   "metadata": {},
   "outputs": [
    {
     "data": {
      "image/png": "[encoded data removed]",
      "text/plain": [
       "<Figure size 432x288 with 1 Axes>"
      ]
     },
     "metadata": {
      "needs_background": "light"
     },
     "output_type": "display_data"
    }
   ],
   "source": [
    "plot_barh(df_transi.loc[(df_transi['DELTA_TIEMPO']<156)], 'Normal data', df_transi.loc[(df_transi['DELTA_TIEMPO']>156) & (df['DELTA_TIEMPO']<280)], 'Anomaly Data','MES')"
   ]
  },
  {
   "cell_type": "code",
   "execution_count": 225,
   "metadata": {},
   "outputs": [
    {
     "data": {
      "text/plain": [
       "0.05591194968553459"
      ]
     },
     "execution_count": 225,
     "metadata": {},
     "output_type": "execute_result"
    }
   ],
   "source": [
    "len(df_transi.loc[(df_transi['DELTA_TIEMPO']>19) & (df['DELTA_TIEMPO']<29)])/len(df_transi)"
   ]
  },
  {
   "cell_type": "code",
   "execution_count": 226,
   "metadata": {},
   "outputs": [
    {
     "data": {
      "text/plain": [
       "0.13064951455097526"
      ]
     },
     "execution_count": 226,
     "metadata": {},
     "output_type": "execute_result"
    }
   ],
   "source": [
    "df_transi.loc[(df_transi['DELTA_TIEMPO']>19) & (df['DELTA_TIEMPO']<29)]['DELTA_TIEMPO'].sum()/df_transi['DELTA_TIEMPO'].sum()"
   ]
  }
 ],
 "metadata": {
  "kernelspec": {
   "display_name": "Python 3",
   "language": "python",
   "name": "python3"
  },
  "language_info": {
   "codemirror_mode": {
    "name": "ipython",
    "version": 3
   },
   "file_extension": ".py",
   "mimetype": "text/x-python",
   "name": "python",
   "nbconvert_exporter": "python",
   "pygments_lexer": "ipython3",
   "version": "3.7.3"
  }
 },
 "nbformat": 4,
 "nbformat_minor": 4
}
